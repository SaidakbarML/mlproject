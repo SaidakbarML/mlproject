{
 "cells": [
  {
   "cell_type": "code",
   "execution_count": 1,
   "id": "e578f6a4",
   "metadata": {},
   "outputs": [],
   "source": [
    "import numpy as np\n",
    "import pandas as pd \n",
    "import matplotlib.pyplot as plt\n",
    "import seaborn as sns\n",
    "\n",
    "from sklearn.metrics import mean_squared_error,r2_score\n",
    "from sklearn.neighbors import KNeighborsRegressor\n",
    "from sklearn.tree import DecisionTreeRegressor\n",
    "from sklearn.ensemble import RandomForestRegressor,AdaBoostRegressor\n",
    "from sklearn.svm import SVR\n",
    "from sklearn.linear_model import LinearRegression,Ridge,Lasso\n",
    "from sklearn.metrics import r2_score,mean_absolute_error,mean_squared_error\n",
    "from sklearn.model_selection import RandomizedSearchCV\n",
    "from catboost import CatBoostRegressor\n",
    "from xgboost import XGBRegressor\n",
    "import warnings"
   ]
  },
  {
   "cell_type": "code",
   "execution_count": 2,
   "id": "16bea52f",
   "metadata": {},
   "outputs": [],
   "source": [
    "df= pd.read_csv(r'C:\\Users\\Saidakbar\\Desktop\\MACHINE LEARNIGN\\end to end project\\notebook\\data\\StudentsPerformance (1).csv')"
   ]
  },
  {
   "cell_type": "code",
   "execution_count": 3,
   "id": "8c7b51d9",
   "metadata": {},
   "outputs": [],
   "source": [
    "X = df.drop(columns=['math score'],axis=1) \n",
    "y = df['math score']"
   ]
  },
  {
   "cell_type": "code",
   "execution_count": 4,
   "id": "f212a994",
   "metadata": {},
   "outputs": [],
   "source": [
    "num_features = X.select_dtypes(exclude='object').columns\n",
    "cat_features = X.select_dtypes(exclude='object').columns\n",
    "\n",
    "from sklearn.preprocessing import OneHotEncoder,StandardScaler\n",
    "from sklearn.compose import ColumnTransformer\n",
    "\n",
    "\n",
    "numeric_transformer = StandardScaler()\n",
    "oh_transformer = OneHotEncoder()\n",
    "\n",
    "processor = ColumnTransformer(\n",
    "    [\n",
    "        ('oh_transformer',oh_transformer,cat_features),\n",
    "        ('standardscaler',numeric_transformer,num_features)\n",
    "        \n",
    "    ]\n",
    ")\n"
   ]
  },
  {
   "cell_type": "code",
   "execution_count": 5,
   "id": "39852bfa",
   "metadata": {},
   "outputs": [],
   "source": [
    "X = processor.fit_transform(X)\n"
   ]
  },
  {
   "cell_type": "code",
   "execution_count": 6,
   "id": "d3afaff3",
   "metadata": {},
   "outputs": [
    {
     "data": {
      "text/plain": [
       "<1000x151 sparse matrix of type '<class 'numpy.float64'>'\n",
       "\twith 4000 stored elements in Compressed Sparse Row format>"
      ]
     },
     "execution_count": 6,
     "metadata": {},
     "output_type": "execute_result"
    }
   ],
   "source": [
    "X"
   ]
  },
  {
   "cell_type": "code",
   "execution_count": 7,
   "id": "2c105ab8",
   "metadata": {},
   "outputs": [
    {
     "data": {
      "text/plain": [
       "(1000, 151)"
      ]
     },
     "execution_count": 7,
     "metadata": {},
     "output_type": "execute_result"
    }
   ],
   "source": [
    "X.shape"
   ]
  },
  {
   "cell_type": "code",
   "execution_count": 8,
   "id": "761a2e06",
   "metadata": {},
   "outputs": [],
   "source": [
    "from sklearn.model_selection import train_test_split\n",
    "X_train,X_test,y_train,y_test = train_test_split(X,y,test_size=0.3,random_state=42)\n"
   ]
  },
  {
   "cell_type": "code",
   "execution_count": 9,
   "id": "9c2bcd38",
   "metadata": {},
   "outputs": [],
   "source": [
    "def evaulate_model(true,predicted):\n",
    "    mae = mean_absolute_error(true,predicted)\n",
    "    mse = mean_squared_error(true,predicted)\n",
    "    rmse = np.sqrt(mse)\n",
    "    r2_square = r2_score(true,predicted)\n",
    "    return mae,mse,rmse,r2_square\n"
   ]
  },
  {
   "cell_type": "code",
   "execution_count": 11,
   "id": "7398239d",
   "metadata": {},
   "outputs": [
    {
     "name": "stdout",
     "output_type": "stream",
     "text": [
      "Linear regression\n",
      "model performance for training set\n",
      "root mean squared error:7.590205832366099\n",
      "mean_absolute error 6.108704876936499\n",
      "r2 score0.7388304096540674\n",
      "--------------------\n",
      "model performance for test set\n",
      "root mean squared error:7.590205832366099\n",
      "mean_absolute error 6.108704876936499\n",
      "r2 score0.7388304096540674\n",
      "--------------------\n",
      "===================================\n",
      "\n",
      "\n",
      "Lasso\n",
      "model performance for training set\n",
      "root mean squared error:8.549653487469477\n",
      "mean_absolute error 6.8679896571804795\n",
      "r2 score0.6686305034373876\n",
      "--------------------\n",
      "model performance for test set\n",
      "root mean squared error:8.549653487469477\n",
      "mean_absolute error 6.8679896571804795\n",
      "r2 score0.6686305034373876\n",
      "--------------------\n",
      "===================================\n",
      "\n",
      "\n",
      "Ridge\n",
      "model performance for training set\n",
      "root mean squared error:7.655012464366698\n",
      "mean_absolute error 6.2295068477777065\n",
      "r2 score0.7343515381768134\n",
      "--------------------\n",
      "model performance for test set\n",
      "root mean squared error:7.655012464366698\n",
      "mean_absolute error 6.2295068477777065\n",
      "r2 score0.7343515381768134\n",
      "--------------------\n",
      "===================================\n",
      "\n",
      "\n"
     ]
    },
    {
     "name": "stderr",
     "output_type": "stream",
     "text": [
      "c:\\Users\\Saidakbar\\Desktop\\MACHINE LEARNIGN\\end to end project\\venv\\lib\\site-packages\\joblib\\externals\\loky\\backend\\context.py:136: UserWarning: Could not find the number of physical cores for the following reason:\n",
      "[WinError 2] The system cannot find the file specified\n",
      "Returning the number of logical cores instead. You can silence this warning by setting LOKY_MAX_CPU_COUNT to the number of cores you want to use.\n",
      "  warnings.warn(\n",
      "  File \"c:\\Users\\Saidakbar\\Desktop\\MACHINE LEARNIGN\\end to end project\\venv\\lib\\site-packages\\joblib\\externals\\loky\\backend\\context.py\", line 257, in _count_physical_cores\n",
      "    cpu_info = subprocess.run(\n",
      "  File \"c:\\Users\\Saidakbar\\Desktop\\MACHINE LEARNIGN\\end to end project\\venv\\lib\\subprocess.py\", line 493, in run\n",
      "    with Popen(*popenargs, **kwargs) as process:\n",
      "  File \"c:\\Users\\Saidakbar\\Desktop\\MACHINE LEARNIGN\\end to end project\\venv\\lib\\subprocess.py\", line 858, in __init__\n",
      "    self._execute_child(args, executable, preexec_fn, close_fds,\n",
      "  File \"c:\\Users\\Saidakbar\\Desktop\\MACHINE LEARNIGN\\end to end project\\venv\\lib\\subprocess.py\", line 1327, in _execute_child\n",
      "    hp, ht, pid, tid = _winapi.CreateProcess(executable, args,\n"
     ]
    },
    {
     "name": "stdout",
     "output_type": "stream",
     "text": [
      "k-neigherst neighbour\n",
      "model performance for training set\n",
      "root mean squared error:7.4069928349596\n",
      "mean_absolute error 5.990857142857143\n",
      "r2 score0.7512865050524073\n",
      "--------------------\n",
      "model performance for test set\n",
      "root mean squared error:7.4069928349596\n",
      "mean_absolute error 5.990857142857143\n",
      "r2 score0.7512865050524073\n",
      "--------------------\n",
      "===================================\n",
      "\n",
      "\n",
      "decision tree\n",
      "model performance for training set\n",
      "root mean squared error:5.060483441190201\n",
      "mean_absolute error 3.615949159349714\n",
      "r2 score0.8839087419849143\n",
      "--------------------\n",
      "model performance for test set\n",
      "root mean squared error:5.060483441190201\n",
      "mean_absolute error 3.615949159349714\n",
      "r2 score0.8839087419849143\n",
      "--------------------\n",
      "===================================\n",
      "\n",
      "\n",
      "Cat boost regressor\n",
      "model performance for training set\n",
      "root mean squared error:6.116367836455509\n",
      "mean_absolute error 4.9690300659391236\n",
      "r2 score0.8304090422093389\n",
      "--------------------\n",
      "model performance for test set\n",
      "root mean squared error:6.116367836455509\n",
      "mean_absolute error 4.9690300659391236\n",
      "r2 score0.8304090422093389\n",
      "--------------------\n",
      "===================================\n",
      "\n",
      "\n",
      "adaboost regessor\n",
      "model performance for training set\n",
      "root mean squared error:8.197092844958323\n",
      "mean_absolute error 6.731563416986669\n",
      "r2 score0.6953962753138825\n",
      "--------------------\n",
      "model performance for test set\n",
      "root mean squared error:8.197092844958323\n",
      "mean_absolute error 6.731563416986669\n",
      "r2 score0.6953962753138825\n",
      "--------------------\n",
      "===================================\n",
      "\n",
      "\n"
     ]
    }
   ],
   "source": [
    "\n",
    "models = {\n",
    "    'Linear regression':LinearRegression(),\n",
    "    'Lasso': Lasso(),\n",
    "    'Ridge':Ridge(),\n",
    "    'k-neigherst neighbour':KNeighborsRegressor(),\n",
    "    'decision tree':XGBRegressor(),\n",
    "    'Cat boost regressor':CatBoostRegressor(verbose=False),\n",
    "    'adaboost regessor':AdaBoostRegressor()\n",
    "\n",
    "\n",
    "}\n",
    "\n",
    "model_list = []\n",
    "\n",
    "r2_list = []\n",
    "\n",
    "for i in range(len(list(models))):\n",
    "    model = list(models.values())[i]\n",
    "    model.fit(X_train,y_train)\n",
    "\n",
    "    y_train_pred = model.predict(X_train)\n",
    "    y_test_pred = model.predict(X_test)\n",
    "\n",
    "    mae_train, mse_train,rmse_train,r2_scoring_train = evaulate_model(y_train,y_train_pred)\n",
    "    mae_test, mse_test,rmse_test,r2_scoring_test = evaulate_model(y_train,y_train_pred)\n",
    "\n",
    "    print(list(models.keys())[i])\n",
    "    model_list.append(list(models.keys())[i])\n",
    "\n",
    "    print('model performance for training set')\n",
    "    print(f'root mean squared error:{rmse_train}')\n",
    "    print(f'mean_absolute error {mae_train}')\n",
    "    print(f'r2 score{r2_scoring_train}')\n",
    "    print(20*'-')\n",
    "\n",
    "    print('model performance for test set')\n",
    "\n",
    "    \n",
    "    print(f'root mean squared error:{rmse_test}')\n",
    "    print(f'mean_absolute error {mae_test}')\n",
    "    print(f'r2 score{r2_scoring_test}')\n",
    "    print(20*'-')\n",
    "    r2_list.append(r2_scoring_test)\n",
    "\n",
    "    print(35*'=')\n",
    "    print('\\n')\n",
    "    \n"
   ]
  },
  {
   "cell_type": "code",
   "execution_count": 14,
   "id": "b6db4b27",
   "metadata": {},
   "outputs": [
    {
     "data": {
      "text/html": [
       "<div>\n",
       "<style scoped>\n",
       "    .dataframe tbody tr th:only-of-type {\n",
       "        vertical-align: middle;\n",
       "    }\n",
       "\n",
       "    .dataframe tbody tr th {\n",
       "        vertical-align: top;\n",
       "    }\n",
       "\n",
       "    .dataframe thead th {\n",
       "        text-align: right;\n",
       "    }\n",
       "</style>\n",
       "<table border=\"1\" class=\"dataframe\">\n",
       "  <thead>\n",
       "    <tr style=\"text-align: right;\">\n",
       "      <th></th>\n",
       "      <th>model name</th>\n",
       "      <th>r2_score</th>\n",
       "    </tr>\n",
       "  </thead>\n",
       "  <tbody>\n",
       "    <tr>\n",
       "      <th>4</th>\n",
       "      <td>decision tree</td>\n",
       "      <td>0.883909</td>\n",
       "    </tr>\n",
       "    <tr>\n",
       "      <th>5</th>\n",
       "      <td>Cat boost regressor</td>\n",
       "      <td>0.830409</td>\n",
       "    </tr>\n",
       "    <tr>\n",
       "      <th>3</th>\n",
       "      <td>k-neigherst neighbour</td>\n",
       "      <td>0.751287</td>\n",
       "    </tr>\n",
       "    <tr>\n",
       "      <th>0</th>\n",
       "      <td>Linear regression</td>\n",
       "      <td>0.738830</td>\n",
       "    </tr>\n",
       "    <tr>\n",
       "      <th>2</th>\n",
       "      <td>Ridge</td>\n",
       "      <td>0.734352</td>\n",
       "    </tr>\n",
       "    <tr>\n",
       "      <th>6</th>\n",
       "      <td>adaboost regessor</td>\n",
       "      <td>0.695396</td>\n",
       "    </tr>\n",
       "    <tr>\n",
       "      <th>1</th>\n",
       "      <td>Lasso</td>\n",
       "      <td>0.668631</td>\n",
       "    </tr>\n",
       "  </tbody>\n",
       "</table>\n",
       "</div>"
      ],
      "text/plain": [
       "              model name  r2_score\n",
       "4          decision tree  0.883909\n",
       "5    Cat boost regressor  0.830409\n",
       "3  k-neigherst neighbour  0.751287\n",
       "0      Linear regression  0.738830\n",
       "2                  Ridge  0.734352\n",
       "6      adaboost regessor  0.695396\n",
       "1                  Lasso  0.668631"
      ]
     },
     "execution_count": 14,
     "metadata": {},
     "output_type": "execute_result"
    }
   ],
   "source": [
    "pd.DataFrame(list(zip(model_list,r2_list)),columns=['model name','r2_score']).sort_values(by=['r2_score'],ascending=False)"
   ]
  },
  {
   "cell_type": "code",
   "execution_count": 15,
   "id": "f6c56efa",
   "metadata": {},
   "outputs": [
    {
     "name": "stdout",
     "output_type": "stream",
     "text": [
      "score is 58.11034410366284\n"
     ]
    }
   ],
   "source": [
    "lin_model = LinearRegression(fit_intercept=True)\n",
    "lin_model = lin_model.fit(X_train,y_train)\n",
    "y_pred = lin_model.predict(X_test)\n",
    "score = r2_score(y_test,y_pred)*100\n",
    "print(f'score is {score}')"
   ]
  },
  {
   "cell_type": "code",
   "execution_count": 16,
   "id": "92756110",
   "metadata": {},
   "outputs": [
    {
     "data": {
      "text/plain": [
       "<matplotlib.collections.PathCollection at 0x2149889a160>"
      ]
     },
     "execution_count": 16,
     "metadata": {},
     "output_type": "execute_result"
    },
    {
     "data": {
      "image/png": "[encoded data removed]",
      "text/plain": [
       "<Figure size 640x480 with 1 Axes>"
      ]
     },
     "metadata": {},
     "output_type": "display_data"
    }
   ],
   "source": [
    "plt.scatter(y_test,y_pred)\n"
   ]
  },
  {
   "cell_type": "code",
   "execution_count": 17,
   "id": "51f78459",
   "metadata": {},
   "outputs": [
    {
     "data": {
      "text/plain": [
       "<Axes: xlabel='math score'>"
      ]
     },
     "execution_count": 17,
     "metadata": {},
     "output_type": "execute_result"
    },
    {
     "data": {
      "image/png": "[encoded data removed]",
      "text/plain": [
       "<Figure size 640x480 with 1 Axes>"
      ]
     },
     "metadata": {},
     "output_type": "display_data"
    }
   ],
   "source": [
    "sns.regplot(x=y_test,y=y_pred,ci=None,color='red')"
   ]
  },
  {
   "cell_type": "code",
   "execution_count": null,
   "id": "b1e881ae",
   "metadata": {},
   "outputs": [],
   "source": []
  }
 ],
 "metadata": {
  "kernelspec": {
   "display_name": "Python 3",
   "language": "python",
   "name": "python3"
  },
  "language_info": {
   "codemirror_mode": {
    "name": "ipython",
    "version": 3
   },
   "file_extension": ".py",
   "mimetype": "text/x-python",
   "name": "python",
   "nbconvert_exporter": "python",
   "pygments_lexer": "ipython3",
   "version": "3.8.20"
  }
 },
 "nbformat": 4,
 "nbformat_minor": 5
}
